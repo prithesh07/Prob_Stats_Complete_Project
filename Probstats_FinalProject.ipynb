{
  "cells": [
    {
      "cell_type": "markdown",
      "metadata": {
        "id": "view-in-github",
        "colab_type": "text"
      },
      "source": [
        "<a href=\"https://colab.research.google.com/github/prithesh07/Prob_Stats_Complete_Project/blob/main/Probstats_FinalProject.ipynb\" target=\"_parent\"><img src=\"https://colab.research.google.com/assets/colab-badge.svg\" alt=\"Open In Colab\"/></a>"
      ]
    },
    {
      "cell_type": "markdown",
      "metadata": {
        "id": "b81iww9BfmCd"
      },
      "source": [
        "3.1.1 Dataset Cleaning"
      ]
    },
    {
      "cell_type": "code",
      "execution_count": null,
      "metadata": {
        "colab": {
          "base_uri": "https://localhost:8080/",
          "height": 226
        },
        "id": "CYlT9Ylg7Nck",
        "outputId": "4009c5a0-4b07-4980-b508-c4cebc40d921"
      },
      "outputs": [
        {
          "output_type": "execute_result",
          "data": {
            "text/plain": [
              "  lpep_pickup_datetime  passenger_count  trip_distance  trip_duration  \\\n",
              "0  2022-02-01 00:20:21              1.0           1.16          249.0   \n",
              "1  2022-02-01 00:32:26              1.0           0.57          185.0   \n",
              "2  2022-02-01 00:17:27              1.0           0.00         1637.0   \n",
              "3  2022-02-01 00:45:37              1.0          16.62         2499.0   \n",
              "4  2022-02-01 00:06:46              1.0           5.97         1400.0   \n",
              "\n",
              "   fare_amount  tip_amount  congestion_surcharge month  \n",
              "0          5.5        1.02                  0.00   feb  \n",
              "1          4.5        0.00                  0.00   feb  \n",
              "2         42.2        0.00                  0.00   feb  \n",
              "3         49.0        0.00                  0.00   feb  \n",
              "4         21.0        4.50                  2.75   feb  "
            ],
            "text/html": [
              "\n",
              "  <div id=\"df-c730951a-56d8-4a4e-a180-1cb3421bc052\" class=\"colab-df-container\">\n",
              "    <div>\n",
              "<style scoped>\n",
              "    .dataframe tbody tr th:only-of-type {\n",
              "        vertical-align: middle;\n",
              "    }\n",
              "\n",
              "    .dataframe tbody tr th {\n",
              "        vertical-align: top;\n",
              "    }\n",
              "\n",
              "    .dataframe thead th {\n",
              "        text-align: right;\n",
              "    }\n",
              "</style>\n",
              "<table border=\"1\" class=\"dataframe\">\n",
              "  <thead>\n",
              "    <tr style=\"text-align: right;\">\n",
              "      <th></th>\n",
              "      <th>lpep_pickup_datetime</th>\n",
              "      <th>passenger_count</th>\n",
              "      <th>trip_distance</th>\n",
              "      <th>trip_duration</th>\n",
              "      <th>fare_amount</th>\n",
              "      <th>tip_amount</th>\n",
              "      <th>congestion_surcharge</th>\n",
              "      <th>month</th>\n",
              "    </tr>\n",
              "  </thead>\n",
              "  <tbody>\n",
              "    <tr>\n",
              "      <th>0</th>\n",
              "      <td>2022-02-01 00:20:21</td>\n",
              "      <td>1.0</td>\n",
              "      <td>1.16</td>\n",
              "      <td>249.0</td>\n",
              "      <td>5.5</td>\n",
              "      <td>1.02</td>\n",
              "      <td>0.00</td>\n",
              "      <td>feb</td>\n",
              "    </tr>\n",
              "    <tr>\n",
              "      <th>1</th>\n",
              "      <td>2022-02-01 00:32:26</td>\n",
              "      <td>1.0</td>\n",
              "      <td>0.57</td>\n",
              "      <td>185.0</td>\n",
              "      <td>4.5</td>\n",
              "      <td>0.00</td>\n",
              "      <td>0.00</td>\n",
              "      <td>feb</td>\n",
              "    </tr>\n",
              "    <tr>\n",
              "      <th>2</th>\n",
              "      <td>2022-02-01 00:17:27</td>\n",
              "      <td>1.0</td>\n",
              "      <td>0.00</td>\n",
              "      <td>1637.0</td>\n",
              "      <td>42.2</td>\n",
              "      <td>0.00</td>\n",
              "      <td>0.00</td>\n",
              "      <td>feb</td>\n",
              "    </tr>\n",
              "    <tr>\n",
              "      <th>3</th>\n",
              "      <td>2022-02-01 00:45:37</td>\n",
              "      <td>1.0</td>\n",
              "      <td>16.62</td>\n",
              "      <td>2499.0</td>\n",
              "      <td>49.0</td>\n",
              "      <td>0.00</td>\n",
              "      <td>0.00</td>\n",
              "      <td>feb</td>\n",
              "    </tr>\n",
              "    <tr>\n",
              "      <th>4</th>\n",
              "      <td>2022-02-01 00:06:46</td>\n",
              "      <td>1.0</td>\n",
              "      <td>5.97</td>\n",
              "      <td>1400.0</td>\n",
              "      <td>21.0</td>\n",
              "      <td>4.50</td>\n",
              "      <td>2.75</td>\n",
              "      <td>feb</td>\n",
              "    </tr>\n",
              "  </tbody>\n",
              "</table>\n",
              "</div>\n",
              "    <div class=\"colab-df-buttons\">\n",
              "\n",
              "  <div class=\"colab-df-container\">\n",
              "    <button class=\"colab-df-convert\" onclick=\"convertToInteractive('df-c730951a-56d8-4a4e-a180-1cb3421bc052')\"\n",
              "            title=\"Convert this dataframe to an interactive table.\"\n",
              "            style=\"display:none;\">\n",
              "\n",
              "  <svg xmlns=\"http://www.w3.org/2000/svg\" height=\"24px\" viewBox=\"0 -960 960 960\">\n",
              "    <path d=\"M120-120v-720h720v720H120Zm60-500h600v-160H180v160Zm220 220h160v-160H400v160Zm0 220h160v-160H400v160ZM180-400h160v-160H180v160Zm440 0h160v-160H620v160ZM180-180h160v-160H180v160Zm440 0h160v-160H620v160Z\"/>\n",
              "  </svg>\n",
              "    </button>\n",
              "\n",
              "  <style>\n",
              "    .colab-df-container {\n",
              "      display:flex;\n",
              "      gap: 12px;\n",
              "    }\n",
              "\n",
              "    .colab-df-convert {\n",
              "      background-color: #E8F0FE;\n",
              "      border: none;\n",
              "      border-radius: 50%;\n",
              "      cursor: pointer;\n",
              "      display: none;\n",
              "      fill: #1967D2;\n",
              "      height: 32px;\n",
              "      padding: 0 0 0 0;\n",
              "      width: 32px;\n",
              "    }\n",
              "\n",
              "    .colab-df-convert:hover {\n",
              "      background-color: #E2EBFA;\n",
              "      box-shadow: 0px 1px 2px rgba(60, 64, 67, 0.3), 0px 1px 3px 1px rgba(60, 64, 67, 0.15);\n",
              "      fill: #174EA6;\n",
              "    }\n",
              "\n",
              "    .colab-df-buttons div {\n",
              "      margin-bottom: 4px;\n",
              "    }\n",
              "\n",
              "    [theme=dark] .colab-df-convert {\n",
              "      background-color: #3B4455;\n",
              "      fill: #D2E3FC;\n",
              "    }\n",
              "\n",
              "    [theme=dark] .colab-df-convert:hover {\n",
              "      background-color: #434B5C;\n",
              "      box-shadow: 0px 1px 3px 1px rgba(0, 0, 0, 0.15);\n",
              "      filter: drop-shadow(0px 1px 2px rgba(0, 0, 0, 0.3));\n",
              "      fill: #FFFFFF;\n",
              "    }\n",
              "  </style>\n",
              "\n",
              "    <script>\n",
              "      const buttonEl =\n",
              "        document.querySelector('#df-c730951a-56d8-4a4e-a180-1cb3421bc052 button.colab-df-convert');\n",
              "      buttonEl.style.display =\n",
              "        google.colab.kernel.accessAllowed ? 'block' : 'none';\n",
              "\n",
              "      async function convertToInteractive(key) {\n",
              "        const element = document.querySelector('#df-c730951a-56d8-4a4e-a180-1cb3421bc052');\n",
              "        const dataTable =\n",
              "          await google.colab.kernel.invokeFunction('convertToInteractive',\n",
              "                                                    [key], {});\n",
              "        if (!dataTable) return;\n",
              "\n",
              "        const docLinkHtml = 'Like what you see? Visit the ' +\n",
              "          '<a target=\"_blank\" href=https://colab.research.google.com/notebooks/data_table.ipynb>data table notebook</a>'\n",
              "          + ' to learn more about interactive tables.';\n",
              "        element.innerHTML = '';\n",
              "        dataTable['output_type'] = 'display_data';\n",
              "        await google.colab.output.renderOutput(dataTable, element);\n",
              "        const docLink = document.createElement('div');\n",
              "        docLink.innerHTML = docLinkHtml;\n",
              "        element.appendChild(docLink);\n",
              "      }\n",
              "    </script>\n",
              "  </div>\n",
              "\n",
              "\n",
              "<div id=\"df-5f44b173-61ea-48c8-8f2c-3edca6e85a4a\">\n",
              "  <button class=\"colab-df-quickchart\" onclick=\"quickchart('df-5f44b173-61ea-48c8-8f2c-3edca6e85a4a')\"\n",
              "            title=\"Suggest charts\"\n",
              "            style=\"display:none;\">\n",
              "\n",
              "<svg xmlns=\"http://www.w3.org/2000/svg\" height=\"24px\"viewBox=\"0 0 24 24\"\n",
              "     width=\"24px\">\n",
              "    <g>\n",
              "        <path d=\"M19 3H5c-1.1 0-2 .9-2 2v14c0 1.1.9 2 2 2h14c1.1 0 2-.9 2-2V5c0-1.1-.9-2-2-2zM9 17H7v-7h2v7zm4 0h-2V7h2v10zm4 0h-2v-4h2v4z\"/>\n",
              "    </g>\n",
              "</svg>\n",
              "  </button>\n",
              "\n",
              "<style>\n",
              "  .colab-df-quickchart {\n",
              "      --bg-color: #E8F0FE;\n",
              "      --fill-color: #1967D2;\n",
              "      --hover-bg-color: #E2EBFA;\n",
              "      --hover-fill-color: #174EA6;\n",
              "      --disabled-fill-color: #AAA;\n",
              "      --disabled-bg-color: #DDD;\n",
              "  }\n",
              "\n",
              "  [theme=dark] .colab-df-quickchart {\n",
              "      --bg-color: #3B4455;\n",
              "      --fill-color: #D2E3FC;\n",
              "      --hover-bg-color: #434B5C;\n",
              "      --hover-fill-color: #FFFFFF;\n",
              "      --disabled-bg-color: #3B4455;\n",
              "      --disabled-fill-color: #666;\n",
              "  }\n",
              "\n",
              "  .colab-df-quickchart {\n",
              "    background-color: var(--bg-color);\n",
              "    border: none;\n",
              "    border-radius: 50%;\n",
              "    cursor: pointer;\n",
              "    display: none;\n",
              "    fill: var(--fill-color);\n",
              "    height: 32px;\n",
              "    padding: 0;\n",
              "    width: 32px;\n",
              "  }\n",
              "\n",
              "  .colab-df-quickchart:hover {\n",
              "    background-color: var(--hover-bg-color);\n",
              "    box-shadow: 0 1px 2px rgba(60, 64, 67, 0.3), 0 1px 3px 1px rgba(60, 64, 67, 0.15);\n",
              "    fill: var(--button-hover-fill-color);\n",
              "  }\n",
              "\n",
              "  .colab-df-quickchart-complete:disabled,\n",
              "  .colab-df-quickchart-complete:disabled:hover {\n",
              "    background-color: var(--disabled-bg-color);\n",
              "    fill: var(--disabled-fill-color);\n",
              "    box-shadow: none;\n",
              "  }\n",
              "\n",
              "  .colab-df-spinner {\n",
              "    border: 2px solid var(--fill-color);\n",
              "    border-color: transparent;\n",
              "    border-bottom-color: var(--fill-color);\n",
              "    animation:\n",
              "      spin 1s steps(1) infinite;\n",
              "  }\n",
              "\n",
              "  @keyframes spin {\n",
              "    0% {\n",
              "      border-color: transparent;\n",
              "      border-bottom-color: var(--fill-color);\n",
              "      border-left-color: var(--fill-color);\n",
              "    }\n",
              "    20% {\n",
              "      border-color: transparent;\n",
              "      border-left-color: var(--fill-color);\n",
              "      border-top-color: var(--fill-color);\n",
              "    }\n",
              "    30% {\n",
              "      border-color: transparent;\n",
              "      border-left-color: var(--fill-color);\n",
              "      border-top-color: var(--fill-color);\n",
              "      border-right-color: var(--fill-color);\n",
              "    }\n",
              "    40% {\n",
              "      border-color: transparent;\n",
              "      border-right-color: var(--fill-color);\n",
              "      border-top-color: var(--fill-color);\n",
              "    }\n",
              "    60% {\n",
              "      border-color: transparent;\n",
              "      border-right-color: var(--fill-color);\n",
              "    }\n",
              "    80% {\n",
              "      border-color: transparent;\n",
              "      border-right-color: var(--fill-color);\n",
              "      border-bottom-color: var(--fill-color);\n",
              "    }\n",
              "    90% {\n",
              "      border-color: transparent;\n",
              "      border-bottom-color: var(--fill-color);\n",
              "    }\n",
              "  }\n",
              "</style>\n",
              "\n",
              "  <script>\n",
              "    async function quickchart(key) {\n",
              "      const quickchartButtonEl =\n",
              "        document.querySelector('#' + key + ' button');\n",
              "      quickchartButtonEl.disabled = true;  // To prevent multiple clicks.\n",
              "      quickchartButtonEl.classList.add('colab-df-spinner');\n",
              "      try {\n",
              "        const charts = await google.colab.kernel.invokeFunction(\n",
              "            'suggestCharts', [key], {});\n",
              "      } catch (error) {\n",
              "        console.error('Error during call to suggestCharts:', error);\n",
              "      }\n",
              "      quickchartButtonEl.classList.remove('colab-df-spinner');\n",
              "      quickchartButtonEl.classList.add('colab-df-quickchart-complete');\n",
              "    }\n",
              "    (() => {\n",
              "      let quickchartButtonEl =\n",
              "        document.querySelector('#df-5f44b173-61ea-48c8-8f2c-3edca6e85a4a button');\n",
              "      quickchartButtonEl.style.display =\n",
              "        google.colab.kernel.accessAllowed ? 'block' : 'none';\n",
              "    })();\n",
              "  </script>\n",
              "</div>\n",
              "    </div>\n",
              "  </div>\n"
            ],
            "application/vnd.google.colaboratory.intrinsic+json": {
              "type": "dataframe",
              "variable_name": "combined"
            }
          },
          "metadata": {},
          "execution_count": 806
        }
      ],
      "source": [
        "import pandas as pd\n",
        "import numpy as np\n",
        "\n",
        "# Load Data\n",
        "csv1 = pd.read_csv('2022-02.csv')\n",
        "csv2 = pd.read_csv('2022-03.csv')\n",
        "\n",
        "csv1['month'] = 'feb'\n",
        "csv2['month'] = 'march'\n",
        "\n",
        "combined = pd.concat([csv1, csv2], ignore_index=True)\n",
        "combined['lpep_pickup_datetime'] = pd.to_datetime(combined['lpep_pickup_datetime'])\n",
        "\n",
        "combined.head()"
      ]
    },
    {
      "cell_type": "code",
      "execution_count": null,
      "metadata": {
        "id": "RXIzrU_C94VE"
      },
      "outputs": [],
      "source": [
        "# 3.1.1 Dataset Cleaning\n",
        "\n",
        "# Remove rows which are not part of feb or march\n",
        "combined = combined[(combined['lpep_pickup_datetime'].dt.month == 2) | (combined['lpep_pickup_datetime'].dt.month == 3)]\n",
        "\n",
        "#Delete the rows which have trip_distance equal to 0\n",
        "combined = combined[combined['trip_distance'] != 0]\n",
        "\n",
        "assert combined['trip_distance'].notnull().all(), \"There are null values in 'trip_distance'\"\n",
        "assert (combined['trip_distance'] > 0).all(), \"'trip_distance' values are not greater than 0\"\n",
        "\n",
        "num_cols = combined.select_dtypes(include=[np.number])\n",
        "\n",
        "for col in num_cols.columns:\n",
        "    combined.loc[combined[col] < 0, col] = np.nan\n",
        "\n",
        "combined.loc[combined['trip_duration'] == 0, 'trip_duration'] = np.nan\n",
        "combined.loc[combined['fare_amount'] == 0, 'fare_amount'] = np.nan\n",
        "\n",
        "# Check if the first row originally had any NaN values and replace values if so\n",
        "first_row_idx = combined.index[0]\n",
        "if combined.loc[first_row_idx].isnull().any():\n",
        "    combined.loc[first_row_idx, ['passenger_count', 'trip_distance', 'trip_duration', 'fare_amount', 'tip_amount', 'congestion_surcharge']] = [2, 2.42, 398.2, 14.3, 2.0, 0.0]\n",
        "\n",
        "# Check if the last row originally had any NaN values and replace values if so\n",
        "last_row_idx = combined.index[-1]\n",
        "if combined.loc[last_row_idx].isnull().any():\n",
        "    combined.loc[last_row_idx, ['passenger_count', 'trip_distance', 'trip_duration', 'fare_amount', 'tip_amount', 'congestion_surcharge']] = [1, 5.77, 821.3, 29.3, 4.0, 0.0]"
      ]
    },
    {
      "cell_type": "markdown",
      "metadata": {
        "id": "q2tV7g8Xfxz8"
      },
      "source": [
        "3.1.2 Outlier Detection"
      ]
    },
    {
      "cell_type": "code",
      "execution_count": null,
      "metadata": {
        "colab": {
          "base_uri": "https://localhost:8080/"
        },
        "id": "cG-bTVPV95ft",
        "outputId": "2b339a7f-06d1-4e98-fdbc-b11b3024df80"
      },
      "outputs": [
        {
          "output_type": "stream",
          "name": "stdout",
          "text": [
            "Number of elements identified as outlier in passenger_count: 17987\n",
            "Number of elements identified as outlier in trip_duration: 7686\n",
            "Number of elements identified as outlier in fare_amount: 8782\n"
          ]
        }
      ],
      "source": [
        "# 3.1.2 Outlier Detection\n",
        "alpha = 1.5\n",
        "\n",
        "# Function to identify outliers based on Tukey's rule\n",
        "def identify_outliers(series, alpha=1.5):\n",
        "    q1 = custom_quantile(series, 0.25)\n",
        "    q3 = custom_quantile(series, 0.75)\n",
        "    iqr = q3 - q1\n",
        "\n",
        "    lower_bound = q1 - alpha * iqr\n",
        "    upper_bound = q3 + alpha * iqr\n",
        "\n",
        "    return (series < lower_bound) | (series > upper_bound)\n",
        "\n",
        "def custom_quantile(series, q):\n",
        "    sorted_series = series.dropna().sort_values().reset_index(drop=True)\n",
        "    n = len(sorted_series)\n",
        "\n",
        "    position = q * (n - 1)\n",
        "\n",
        "    if position.is_integer():\n",
        "        return sorted_series[int(position)]\n",
        "    else:\n",
        "        lower_index = int(np.floor(position))\n",
        "        upper_index = int(np.ceil(position))\n",
        "        return sorted_series[lower_index] + (position - lower_index) * (sorted_series[upper_index] - sorted_series[lower_index])\n",
        "\n",
        "for col in [\"passenger_count\", \"trip_duration\", \"fare_amount\"]:\n",
        "    outliers_mask = identify_outliers(combined[col])\n",
        "    num_outliers = outliers_mask.sum()\n",
        "    combined.loc[outliers_mask, col] = np.nan\n",
        "\n",
        "    print(f\"Number of elements identified as outlier in {col}: {num_outliers}\")"
      ]
    },
    {
      "cell_type": "code",
      "execution_count": null,
      "metadata": {
        "id": "vAb3aq54JxHD"
      },
      "outputs": [],
      "source": [
        "# Check if the first row originally had any NaN values and replace values if so\n",
        "first_row_idx = combined.index[0]\n",
        "if combined.loc[first_row_idx].isnull().any():\n",
        "    combined.loc[first_row_idx, ['passenger_count', 'trip_distance', 'trip_duration', 'fare_amount', 'tip_amount', 'congestion_surcharge']] = [2, 2.42, 398.2, 14.3, 2.0, 0.0]\n",
        "\n",
        "# Check if the last row originally had any NaN values and replace values if so\n",
        "last_row_idx = combined.index[-1]\n",
        "if combined.loc[last_row_idx].isnull().any():\n",
        "    combined.loc[last_row_idx, ['passenger_count', 'trip_distance', 'trip_duration', 'fare_amount', 'tip_amount', 'congestion_surcharge']] = [1, 5.77, 821.3, 29.3, 4.0, 0.0]\n",
        "\n",
        "columns_with_nan = [col for col in combined.columns if combined[col].isnull().any()]\n",
        "combined = combined.sort_values(by='lpep_pickup_datetime').reset_index(drop=True)\n"
      ]
    },
    {
      "cell_type": "markdown",
      "metadata": {
        "id": "jkeUB6_df480"
      },
      "source": [
        "3.1.3 Perform linear interpolation of missing data-points"
      ]
    },
    {
      "cell_type": "code",
      "execution_count": null,
      "metadata": {
        "colab": {
          "base_uri": "https://localhost:8080/"
        },
        "id": "k47Omwxs1Vaf",
        "outputId": "6fa91744-051e-4b2a-b5fb-d3e063e10ddf"
      },
      "outputs": [
        {
          "output_type": "stream",
          "name": "stdout",
          "text": [
            "NaN values remaining in each column:\n",
            "lpep_pickup_datetime     0\n",
            "passenger_count          4\n",
            "trip_distance            0\n",
            "trip_duration           16\n",
            "fare_amount             29\n",
            "tip_amount               0\n",
            "congestion_surcharge     4\n",
            "month                    0\n",
            "dtype: int64\n"
          ]
        }
      ],
      "source": [
        "#3.1.3 Perform linear interpolation of missing data-points\n",
        "\n",
        "# Function to calculate the slope between two points\n",
        "def calculate_slope(x1, y1, x2, y2):\n",
        "    if x2 == x1:\n",
        "        return 0  # Avoid division by zero\n",
        "    return (y2 - y1) / (x2 - x1)\n",
        "\n",
        "# Interpolate missing data points for each column with NaN values\n",
        "for column in columns_with_nan:\n",
        "    x1 = None\n",
        "    y1 = None\n",
        "    x2 = None\n",
        "    y2 = None\n",
        "\n",
        "    for idx in range(len(combined)):\n",
        "        # If it's a non-null value, update the last known time. Using interpolated values as known values for further iterations ensures data continuity and completeness in sparse datasets, allowing for more accurate and iterative refinement of missing values. It simplifies the implementation process, aligning with common practices in data interpolation. This approach maintains the assumption of linear trends, providing consistent and practical estimates throughout the dataset\n",
        "        if not pd.isna(combined.loc[idx, column]):\n",
        "            x1 = combined.loc[idx, 'lpep_pickup_datetime'].timestamp()\n",
        "            y1 = combined.loc[idx, column] / combined.loc[idx, 'trip_distance']\n",
        "        else:\n",
        "            # If it's a null value, find the next known point\n",
        "            for i in range(idx + 1, len(combined)):\n",
        "                if not pd.isna(combined.loc[i, column]):\n",
        "                    x2 = combined.loc[i, 'lpep_pickup_datetime'].timestamp()\n",
        "                    y2 = combined.loc[i, column] / combined.loc[i, 'trip_distance']\n",
        "\n",
        "                    if(x2 == x1):\n",
        "                      break\n",
        "\n",
        "                    # Calculate the slope and interpolate\n",
        "                    slope = calculate_slope(x1, y1, x2, y2)\n",
        "\n",
        "                    # Get the current time and calculate interpolation\n",
        "                    current_time = combined.loc[idx, 'lpep_pickup_datetime'].timestamp()\n",
        "                    interpolated_value = y1 + slope * (current_time - x1)\n",
        "\n",
        "                    # Scale by 'trip_distance'\n",
        "                    current_distance = combined.loc[idx, 'trip_distance']\n",
        "                    combined.loc[idx, column] = interpolated_value * current_distance\n",
        "\n",
        "                    break  # Found the next known point, break the loop\n",
        "\n",
        "# Verify if there are any points that are still NaN\n",
        "nan_check = combined.isnull().sum()\n",
        "print(\"NaN values remaining in each column:\")\n",
        "print(nan_check)\n"
      ]
    },
    {
      "cell_type": "code",
      "execution_count": null,
      "metadata": {
        "colab": {
          "base_uri": "https://localhost:8080/"
        },
        "id": "QVwufC4lVD6q",
        "outputId": "ea14fb5e-4531-4f53-cf99-014d70dd3235"
      },
      "outputs": [
        {
          "output_type": "stream",
          "name": "stdout",
          "text": [
            "NaN values remaining in each column:\n",
            "lpep_pickup_datetime    0\n",
            "passenger_count         0\n",
            "trip_distance           0\n",
            "trip_duration           0\n",
            "fare_amount             0\n",
            "tip_amount              0\n",
            "congestion_surcharge    0\n",
            "month                   0\n",
            "dtype: int64\n"
          ]
        }
      ],
      "source": [
        "#handling cases where x2 was equal to x1\n",
        "combined = combined.dropna()\n",
        "\n",
        "# Verify if there are any points that are still NaN\n",
        "nan_check = combined.isnull().sum()\n",
        "print(\"NaN values remaining in each column:\")\n",
        "print(nan_check)"
      ]
    },
    {
      "cell_type": "markdown",
      "metadata": {
        "id": "AGVgvYHnf_57"
      },
      "source": [
        "3.2 Add total_amount column"
      ]
    },
    {
      "cell_type": "code",
      "execution_count": null,
      "metadata": {
        "colab": {
          "base_uri": "https://localhost:8080/",
          "height": 226
        },
        "id": "6Wz-Hq4OLGS7",
        "outputId": "cba5bc35-0eed-4d79-fa94-e14466866a9f"
      },
      "outputs": [
        {
          "output_type": "execute_result",
          "data": {
            "text/plain": [
              "  lpep_pickup_datetime  passenger_count  trip_distance  trip_duration  \\\n",
              "0  2022-02-01 00:01:11              1.0           1.77          527.0   \n",
              "1  2022-02-01 00:02:18              1.0           7.11         1369.0   \n",
              "2  2022-02-01 00:05:12              1.0           1.45          508.0   \n",
              "3  2022-02-01 00:05:12              1.0           1.06          934.0   \n",
              "4  2022-02-01 00:05:41              1.0           2.47          697.0   \n",
              "\n",
              "   fare_amount  tip_amount  congestion_surcharge month  total_amount  \n",
              "0          8.5        1.96                  0.00   feb         10.46  \n",
              "1         24.0        0.00                  2.75   feb         26.75  \n",
              "2          7.0        2.49                  0.00   feb          9.49  \n",
              "3         10.0        0.00                  0.00   feb         10.00  \n",
              "4         10.5        0.00                  0.00   feb         10.50  "
            ],
            "text/html": [
              "\n",
              "  <div id=\"df-b537492e-857f-4e71-ba70-3acdd8e4546c\" class=\"colab-df-container\">\n",
              "    <div>\n",
              "<style scoped>\n",
              "    .dataframe tbody tr th:only-of-type {\n",
              "        vertical-align: middle;\n",
              "    }\n",
              "\n",
              "    .dataframe tbody tr th {\n",
              "        vertical-align: top;\n",
              "    }\n",
              "\n",
              "    .dataframe thead th {\n",
              "        text-align: right;\n",
              "    }\n",
              "</style>\n",
              "<table border=\"1\" class=\"dataframe\">\n",
              "  <thead>\n",
              "    <tr style=\"text-align: right;\">\n",
              "      <th></th>\n",
              "      <th>lpep_pickup_datetime</th>\n",
              "      <th>passenger_count</th>\n",
              "      <th>trip_distance</th>\n",
              "      <th>trip_duration</th>\n",
              "      <th>fare_amount</th>\n",
              "      <th>tip_amount</th>\n",
              "      <th>congestion_surcharge</th>\n",
              "      <th>month</th>\n",
              "      <th>total_amount</th>\n",
              "    </tr>\n",
              "  </thead>\n",
              "  <tbody>\n",
              "    <tr>\n",
              "      <th>0</th>\n",
              "      <td>2022-02-01 00:01:11</td>\n",
              "      <td>1.0</td>\n",
              "      <td>1.77</td>\n",
              "      <td>527.0</td>\n",
              "      <td>8.5</td>\n",
              "      <td>1.96</td>\n",
              "      <td>0.00</td>\n",
              "      <td>feb</td>\n",
              "      <td>10.46</td>\n",
              "    </tr>\n",
              "    <tr>\n",
              "      <th>1</th>\n",
              "      <td>2022-02-01 00:02:18</td>\n",
              "      <td>1.0</td>\n",
              "      <td>7.11</td>\n",
              "      <td>1369.0</td>\n",
              "      <td>24.0</td>\n",
              "      <td>0.00</td>\n",
              "      <td>2.75</td>\n",
              "      <td>feb</td>\n",
              "      <td>26.75</td>\n",
              "    </tr>\n",
              "    <tr>\n",
              "      <th>2</th>\n",
              "      <td>2022-02-01 00:05:12</td>\n",
              "      <td>1.0</td>\n",
              "      <td>1.45</td>\n",
              "      <td>508.0</td>\n",
              "      <td>7.0</td>\n",
              "      <td>2.49</td>\n",
              "      <td>0.00</td>\n",
              "      <td>feb</td>\n",
              "      <td>9.49</td>\n",
              "    </tr>\n",
              "    <tr>\n",
              "      <th>3</th>\n",
              "      <td>2022-02-01 00:05:12</td>\n",
              "      <td>1.0</td>\n",
              "      <td>1.06</td>\n",
              "      <td>934.0</td>\n",
              "      <td>10.0</td>\n",
              "      <td>0.00</td>\n",
              "      <td>0.00</td>\n",
              "      <td>feb</td>\n",
              "      <td>10.00</td>\n",
              "    </tr>\n",
              "    <tr>\n",
              "      <th>4</th>\n",
              "      <td>2022-02-01 00:05:41</td>\n",
              "      <td>1.0</td>\n",
              "      <td>2.47</td>\n",
              "      <td>697.0</td>\n",
              "      <td>10.5</td>\n",
              "      <td>0.00</td>\n",
              "      <td>0.00</td>\n",
              "      <td>feb</td>\n",
              "      <td>10.50</td>\n",
              "    </tr>\n",
              "  </tbody>\n",
              "</table>\n",
              "</div>\n",
              "    <div class=\"colab-df-buttons\">\n",
              "\n",
              "  <div class=\"colab-df-container\">\n",
              "    <button class=\"colab-df-convert\" onclick=\"convertToInteractive('df-b537492e-857f-4e71-ba70-3acdd8e4546c')\"\n",
              "            title=\"Convert this dataframe to an interactive table.\"\n",
              "            style=\"display:none;\">\n",
              "\n",
              "  <svg xmlns=\"http://www.w3.org/2000/svg\" height=\"24px\" viewBox=\"0 -960 960 960\">\n",
              "    <path d=\"M120-120v-720h720v720H120Zm60-500h600v-160H180v160Zm220 220h160v-160H400v160Zm0 220h160v-160H400v160ZM180-400h160v-160H180v160Zm440 0h160v-160H620v160ZM180-180h160v-160H180v160Zm440 0h160v-160H620v160Z\"/>\n",
              "  </svg>\n",
              "    </button>\n",
              "\n",
              "  <style>\n",
              "    .colab-df-container {\n",
              "      display:flex;\n",
              "      gap: 12px;\n",
              "    }\n",
              "\n",
              "    .colab-df-convert {\n",
              "      background-color: #E8F0FE;\n",
              "      border: none;\n",
              "      border-radius: 50%;\n",
              "      cursor: pointer;\n",
              "      display: none;\n",
              "      fill: #1967D2;\n",
              "      height: 32px;\n",
              "      padding: 0 0 0 0;\n",
              "      width: 32px;\n",
              "    }\n",
              "\n",
              "    .colab-df-convert:hover {\n",
              "      background-color: #E2EBFA;\n",
              "      box-shadow: 0px 1px 2px rgba(60, 64, 67, 0.3), 0px 1px 3px 1px rgba(60, 64, 67, 0.15);\n",
              "      fill: #174EA6;\n",
              "    }\n",
              "\n",
              "    .colab-df-buttons div {\n",
              "      margin-bottom: 4px;\n",
              "    }\n",
              "\n",
              "    [theme=dark] .colab-df-convert {\n",
              "      background-color: #3B4455;\n",
              "      fill: #D2E3FC;\n",
              "    }\n",
              "\n",
              "    [theme=dark] .colab-df-convert:hover {\n",
              "      background-color: #434B5C;\n",
              "      box-shadow: 0px 1px 3px 1px rgba(0, 0, 0, 0.15);\n",
              "      filter: drop-shadow(0px 1px 2px rgba(0, 0, 0, 0.3));\n",
              "      fill: #FFFFFF;\n",
              "    }\n",
              "  </style>\n",
              "\n",
              "    <script>\n",
              "      const buttonEl =\n",
              "        document.querySelector('#df-b537492e-857f-4e71-ba70-3acdd8e4546c button.colab-df-convert');\n",
              "      buttonEl.style.display =\n",
              "        google.colab.kernel.accessAllowed ? 'block' : 'none';\n",
              "\n",
              "      async function convertToInteractive(key) {\n",
              "        const element = document.querySelector('#df-b537492e-857f-4e71-ba70-3acdd8e4546c');\n",
              "        const dataTable =\n",
              "          await google.colab.kernel.invokeFunction('convertToInteractive',\n",
              "                                                    [key], {});\n",
              "        if (!dataTable) return;\n",
              "\n",
              "        const docLinkHtml = 'Like what you see? Visit the ' +\n",
              "          '<a target=\"_blank\" href=https://colab.research.google.com/notebooks/data_table.ipynb>data table notebook</a>'\n",
              "          + ' to learn more about interactive tables.';\n",
              "        element.innerHTML = '';\n",
              "        dataTable['output_type'] = 'display_data';\n",
              "        await google.colab.output.renderOutput(dataTable, element);\n",
              "        const docLink = document.createElement('div');\n",
              "        docLink.innerHTML = docLinkHtml;\n",
              "        element.appendChild(docLink);\n",
              "      }\n",
              "    </script>\n",
              "  </div>\n",
              "\n",
              "\n",
              "<div id=\"df-7d57a0a6-baa3-434f-9bbd-b89e13559589\">\n",
              "  <button class=\"colab-df-quickchart\" onclick=\"quickchart('df-7d57a0a6-baa3-434f-9bbd-b89e13559589')\"\n",
              "            title=\"Suggest charts\"\n",
              "            style=\"display:none;\">\n",
              "\n",
              "<svg xmlns=\"http://www.w3.org/2000/svg\" height=\"24px\"viewBox=\"0 0 24 24\"\n",
              "     width=\"24px\">\n",
              "    <g>\n",
              "        <path d=\"M19 3H5c-1.1 0-2 .9-2 2v14c0 1.1.9 2 2 2h14c1.1 0 2-.9 2-2V5c0-1.1-.9-2-2-2zM9 17H7v-7h2v7zm4 0h-2V7h2v10zm4 0h-2v-4h2v4z\"/>\n",
              "    </g>\n",
              "</svg>\n",
              "  </button>\n",
              "\n",
              "<style>\n",
              "  .colab-df-quickchart {\n",
              "      --bg-color: #E8F0FE;\n",
              "      --fill-color: #1967D2;\n",
              "      --hover-bg-color: #E2EBFA;\n",
              "      --hover-fill-color: #174EA6;\n",
              "      --disabled-fill-color: #AAA;\n",
              "      --disabled-bg-color: #DDD;\n",
              "  }\n",
              "\n",
              "  [theme=dark] .colab-df-quickchart {\n",
              "      --bg-color: #3B4455;\n",
              "      --fill-color: #D2E3FC;\n",
              "      --hover-bg-color: #434B5C;\n",
              "      --hover-fill-color: #FFFFFF;\n",
              "      --disabled-bg-color: #3B4455;\n",
              "      --disabled-fill-color: #666;\n",
              "  }\n",
              "\n",
              "  .colab-df-quickchart {\n",
              "    background-color: var(--bg-color);\n",
              "    border: none;\n",
              "    border-radius: 50%;\n",
              "    cursor: pointer;\n",
              "    display: none;\n",
              "    fill: var(--fill-color);\n",
              "    height: 32px;\n",
              "    padding: 0;\n",
              "    width: 32px;\n",
              "  }\n",
              "\n",
              "  .colab-df-quickchart:hover {\n",
              "    background-color: var(--hover-bg-color);\n",
              "    box-shadow: 0 1px 2px rgba(60, 64, 67, 0.3), 0 1px 3px 1px rgba(60, 64, 67, 0.15);\n",
              "    fill: var(--button-hover-fill-color);\n",
              "  }\n",
              "\n",
              "  .colab-df-quickchart-complete:disabled,\n",
              "  .colab-df-quickchart-complete:disabled:hover {\n",
              "    background-color: var(--disabled-bg-color);\n",
              "    fill: var(--disabled-fill-color);\n",
              "    box-shadow: none;\n",
              "  }\n",
              "\n",
              "  .colab-df-spinner {\n",
              "    border: 2px solid var(--fill-color);\n",
              "    border-color: transparent;\n",
              "    border-bottom-color: var(--fill-color);\n",
              "    animation:\n",
              "      spin 1s steps(1) infinite;\n",
              "  }\n",
              "\n",
              "  @keyframes spin {\n",
              "    0% {\n",
              "      border-color: transparent;\n",
              "      border-bottom-color: var(--fill-color);\n",
              "      border-left-color: var(--fill-color);\n",
              "    }\n",
              "    20% {\n",
              "      border-color: transparent;\n",
              "      border-left-color: var(--fill-color);\n",
              "      border-top-color: var(--fill-color);\n",
              "    }\n",
              "    30% {\n",
              "      border-color: transparent;\n",
              "      border-left-color: var(--fill-color);\n",
              "      border-top-color: var(--fill-color);\n",
              "      border-right-color: var(--fill-color);\n",
              "    }\n",
              "    40% {\n",
              "      border-color: transparent;\n",
              "      border-right-color: var(--fill-color);\n",
              "      border-top-color: var(--fill-color);\n",
              "    }\n",
              "    60% {\n",
              "      border-color: transparent;\n",
              "      border-right-color: var(--fill-color);\n",
              "    }\n",
              "    80% {\n",
              "      border-color: transparent;\n",
              "      border-right-color: var(--fill-color);\n",
              "      border-bottom-color: var(--fill-color);\n",
              "    }\n",
              "    90% {\n",
              "      border-color: transparent;\n",
              "      border-bottom-color: var(--fill-color);\n",
              "    }\n",
              "  }\n",
              "</style>\n",
              "\n",
              "  <script>\n",
              "    async function quickchart(key) {\n",
              "      const quickchartButtonEl =\n",
              "        document.querySelector('#' + key + ' button');\n",
              "      quickchartButtonEl.disabled = true;  // To prevent multiple clicks.\n",
              "      quickchartButtonEl.classList.add('colab-df-spinner');\n",
              "      try {\n",
              "        const charts = await google.colab.kernel.invokeFunction(\n",
              "            'suggestCharts', [key], {});\n",
              "      } catch (error) {\n",
              "        console.error('Error during call to suggestCharts:', error);\n",
              "      }\n",
              "      quickchartButtonEl.classList.remove('colab-df-spinner');\n",
              "      quickchartButtonEl.classList.add('colab-df-quickchart-complete');\n",
              "    }\n",
              "    (() => {\n",
              "      let quickchartButtonEl =\n",
              "        document.querySelector('#df-7d57a0a6-baa3-434f-9bbd-b89e13559589 button');\n",
              "      quickchartButtonEl.style.display =\n",
              "        google.colab.kernel.accessAllowed ? 'block' : 'none';\n",
              "    })();\n",
              "  </script>\n",
              "</div>\n",
              "    </div>\n",
              "  </div>\n"
            ],
            "application/vnd.google.colaboratory.intrinsic+json": {
              "type": "dataframe",
              "variable_name": "combined"
            }
          },
          "metadata": {},
          "execution_count": 812
        }
      ],
      "source": [
        "#3.2 Add total_amount Column\n",
        "pd.options.mode.chained_assignment = None\n",
        "total_amount = (\n",
        "    combined['fare_amount'] +\n",
        "    combined['tip_amount'] +\n",
        "    combined['congestion_surcharge']\n",
        ").copy()\n",
        "\n",
        "# Append the total_amount column to the combined DataFrame\n",
        "combined.loc[:, 'total_amount'] = total_amount\n",
        "# Check if any NaN values exist in 'total_amount'\n",
        "assert not combined['total_amount'].isnull().any(), \"Some 'total_amount' values are NaN\"\n",
        "\n",
        "combined.head()"
      ]
    },
    {
      "cell_type": "markdown",
      "metadata": {
        "id": "Yfc1s_gm0aJI"
      },
      "source": [
        "3.3 Performing Wald’s test, Z-test and t-test"
      ]
    },
    {
      "cell_type": "code",
      "execution_count": null,
      "metadata": {
        "colab": {
          "base_uri": "https://localhost:8080/"
        },
        "id": "axp4NR-r_c5W",
        "outputId": "9396d953-5805-4108-e279-1085bba8ed84"
      },
      "outputs": [
        {
          "output_type": "stream",
          "name": "stdout",
          "text": [
            "Critical value at 95% cI for 2 sided test : 1.959963984540054\n"
          ]
        }
      ],
      "source": [
        "from scipy.stats import norm,t\n",
        "# Check if any NaN values exist in 'total_amount'\n",
        "assert not combined['total_amount'].isnull().any(), \"Some 'total_amount' values are NaN\"\n",
        "critical_value=norm.ppf(0.975)\n",
        "print (f\"Critical value at 95% cI for 2 sided test : {critical_value}\")"
      ]
    },
    {
      "cell_type": "markdown",
      "metadata": {
        "id": "UarEXD8p_eDb"
      },
      "source": [
        "for trip distance"
      ]
    },
    {
      "cell_type": "code",
      "execution_count": null,
      "metadata": {
        "colab": {
          "base_uri": "https://localhost:8080/"
        },
        "id": "yyz_2Djn23yd",
        "outputId": "5a029c07-cbdc-4f62-df41-89a075292528"
      },
      "outputs": [
        {
          "output_type": "stream",
          "name": "stdout",
          "text": [
            "Wald's Test Statistic for Trip Distance: 592.1477276449855\n",
            "Significant Difference between 2 months for trip distance: True\n"
          ]
        }
      ],
      "source": [
        "#wald\n",
        "feb_trip_distance_mean=combined[combined['month']=='feb']['trip_distance'].mean()\n",
        "march_trip_distance_mean= combined[combined['month'] =='march']['trip_distance'].mean()\n",
        "num_feb=combined[combined['month'] == 'feb']['trip_distance'].count()\n",
        "num_march=combined[combined['month'] == 'march']['trip_distance'].count()\n",
        "feb_trip_distance_variance=feb_trip_distance_mean/num_feb\n",
        "march_trip_distance_variance=march_trip_distance_mean/num_march\n",
        "wald_statistic_trip= (feb_trip_distance_mean -march_trip_distance_mean)/np.sqrt(feb_trip_distance_variance +march_trip_distance_variance)\n",
        "print(f\"Wald's Test Statistic for Trip Distance: {wald_statistic_trip}\")\n",
        "print(f\"Significant Difference between 2 months for trip distance: {abs(wald_statistic_trip)>critical_value}\")"
      ]
    },
    {
      "cell_type": "code",
      "execution_count": null,
      "metadata": {
        "colab": {
          "base_uri": "https://localhost:8080/"
        },
        "id": "WGeO6PHQ-RgO",
        "outputId": "b1e1eee0-1948-4157-cd70-f98d67d4afda"
      },
      "outputs": [
        {
          "output_type": "stream",
          "name": "stdout",
          "text": [
            "Z-Test Statistic for Trip Distance:1.7691171508898291\n",
            "Significant Difference between 2 months for trip distance: False\n"
          ]
        }
      ],
      "source": [
        "# z test\n",
        "feb_trip_distance_sample_var =combined[combined['month'] =='feb']['trip_distance'].var()\n",
        "march_trip_distance_sample_var =combined[combined['month']== 'march']['trip_distance'].var()\n",
        "z_statistic_trip=(feb_trip_distance_mean-march_trip_distance_mean) /np.sqrt((feb_trip_distance_sample_var/num_feb) +(march_trip_distance_sample_var/num_march))\n",
        "\n",
        "print(f\"Z-Test Statistic for Trip Distance:{z_statistic_trip}\")\n",
        "print(f\"Significant Difference between 2 months for trip distance: {abs(z_statistic_trip)>critical_value}\")"
      ]
    },
    {
      "cell_type": "code",
      "execution_count": null,
      "metadata": {
        "colab": {
          "base_uri": "https://localhost:8080/"
        },
        "id": "mG5L-8eRB80Y",
        "outputId": "4cd2899d-f763-41bd-bad5-2e71986fba08"
      },
      "outputs": [
        {
          "output_type": "stream",
          "name": "stdout",
          "text": [
            "t-Test Statistic for Trip Distance:1.7691171508898291\n",
            "Degrees of Freedom:139741\n",
            "Critical Value (t-distribution):1.959980960885067\n",
            "Significant Difference between 2 months for trip distance: False\n"
          ]
        }
      ],
      "source": [
        "#t test\n",
        "t_statistic_trip=(feb_trip_distance_mean-march_trip_distance_mean) /np.sqrt((feb_trip_distance_sample_var/num_feb) +(march_trip_distance_sample_var/num_march))\n",
        "dof=num_feb+num_march-2\n",
        "t_critical_value_trip =t.ppf(0.975, dof)\n",
        "print(f\"t-Test Statistic for Trip Distance:{t_statistic_trip}\")\n",
        "print(f\"Degrees of Freedom:{dof}\")\n",
        "print(f\"Critical Value (t-distribution):{t_critical_value_trip}\")\n",
        "print(f\"Significant Difference between 2 months for trip distance: {abs(t_statistic_trip)>t_critical_value_trip}\")"
      ]
    },
    {
      "cell_type": "markdown",
      "metadata": {
        "id": "j1HCxLCSG-ah"
      },
      "source": [
        "for fare_amount"
      ]
    },
    {
      "cell_type": "code",
      "execution_count": null,
      "metadata": {
        "colab": {
          "base_uri": "https://localhost:8080/"
        },
        "id": "ckWbfBr6HAt0",
        "outputId": "56aefbaa-cb5f-4978-bb29-13897ee7aab0"
      },
      "outputs": [
        {
          "output_type": "stream",
          "name": "stdout",
          "text": [
            "Wald's Test Statistic for fare amount: 847.8777503783994\n",
            "Significant Difference between 2 months for fare amount: True\n"
          ]
        }
      ],
      "source": [
        "#wald\n",
        "feb_fare_amount_mean=combined[combined['month']=='feb']['fare_amount'].mean()\n",
        "march_fare_amount_mean= combined[combined['month'] =='march']['fare_amount'].mean()\n",
        "num_feb=combined[combined['month'] == 'feb']['fare_amount'].count()\n",
        "num_march=combined[combined['month'] == 'march']['fare_amount'].count()\n",
        "feb_fare_amount_variance=feb_fare_amount_mean/num_feb\n",
        "march_fare_amount_variance=march_fare_amount_mean/num_march\n",
        "wald_statistic_fare= (feb_fare_amount_mean -march_fare_amount_mean)/np.sqrt(feb_fare_amount_variance +march_fare_amount_variance)\n",
        "print(f\"Wald's Test Statistic for fare amount: {wald_statistic_fare}\")\n",
        "print(f\"Significant Difference between 2 months for fare amount: {abs(wald_statistic_fare)>critical_value}\")"
      ]
    },
    {
      "cell_type": "code",
      "execution_count": null,
      "metadata": {
        "colab": {
          "base_uri": "https://localhost:8080/"
        },
        "id": "xpHQP-pyHmLC",
        "outputId": "17ed54fd-2bc8-43b6-fa17-58793bb1897e"
      },
      "outputs": [
        {
          "output_type": "stream",
          "name": "stdout",
          "text": [
            "Z-Test Statistic for fare_amount:1.1112076805559827\n",
            "Significant Difference between 2 months for fare_amount: False\n"
          ]
        }
      ],
      "source": [
        "# z test\n",
        "feb_fare_amount_sample_var =combined[combined['month'] =='feb']['fare_amount'].var()\n",
        "march_fare_amount_sample_var =combined[combined['month']== 'march']['fare_amount'].var()\n",
        "z_statistic_fare=(feb_fare_amount_mean-march_fare_amount_mean) /np.sqrt((feb_fare_amount_sample_var/num_feb) +(march_fare_amount_sample_var/num_march))\n",
        "print(f\"Z-Test Statistic for fare_amount:{z_statistic_fare}\")\n",
        "print(f\"Significant Difference between 2 months for fare_amount: {abs(z_statistic_fare)>critical_value}\")"
      ]
    },
    {
      "cell_type": "code",
      "execution_count": null,
      "metadata": {
        "colab": {
          "base_uri": "https://localhost:8080/"
        },
        "id": "Es9z4O29H_Hx",
        "outputId": "9a5b782f-deb9-4f81-e0f7-b6e9d3e90ff0"
      },
      "outputs": [
        {
          "output_type": "stream",
          "name": "stdout",
          "text": [
            "t-Test Statistic for fare_amount:1.1112076805559827\n",
            "Degrees of Freedom:139741\n",
            "Critical Value (t-distribution):1.959980960885067\n",
            "Significant Difference between 2 months for fare_amount: False\n"
          ]
        }
      ],
      "source": [
        "#t test\n",
        "t_statistic_fare=(feb_fare_amount_mean-march_fare_amount_mean) /np.sqrt((feb_fare_amount_sample_var/num_feb) +(march_fare_amount_sample_var/num_march))\n",
        "dof=num_feb+num_march-2\n",
        "t_critical_value_fare =t.ppf(0.975, dof)\n",
        "print(f\"t-Test Statistic for fare_amount:{t_statistic_fare}\")\n",
        "print(f\"Degrees of Freedom:{dof}\")\n",
        "print(f\"Critical Value (t-distribution):{t_critical_value_fare}\")\n",
        "print(f\"Significant Difference between 2 months for fare_amount: {abs(t_statistic_fare)>t_critical_value_fare}\")"
      ]
    },
    {
      "cell_type": "markdown",
      "metadata": {
        "id": "XFtviGjeInC7"
      },
      "source": [
        "3.4 Performing K-S test and Permutation test"
      ]
    },
    {
      "cell_type": "code",
      "execution_count": null,
      "metadata": {
        "id": "2jAc-ZOjInrJ"
      },
      "outputs": [],
      "source": [
        "import scipy.stats as stats\n",
        "def ecdf(d):\n",
        "    l=len(d)\n",
        "    x =np.sort(d)\n",
        "    y= np.arange(1,l+1)/l\n",
        "    return x,y\n",
        "\n",
        "def ks_1sample(d,dist,mu=None,n=None,p=None,geo=None):\n",
        "    x,y_emp=ecdf(d)\n",
        "    if dist==\"poisson\":\n",
        "      y_t=stats.poisson.cdf(x, mu)\n",
        "    elif dist==\"geo\":\n",
        "      y_t=stats.geom.cdf(x, geo)\n",
        "    elif dist==\"binom\":\n",
        "      y_t=stats.binom.cdf(x, n, p)\n",
        "    return np.max(np.abs(y_emp -y_t))\n",
        "\n",
        "def ks_2sample(d1, d2):\n",
        "    x1, y1=ecdf(d1)\n",
        "    x2,y2=ecdf(d2)\n",
        "    cat_x=np.unique(np.concatenate((x1,x2)))\n",
        "    ecdf1 = np.interp(cat_x, x1,y1, left=0,right=1)\n",
        "    ecdf2 = np.interp(cat_x,x2, y2, left=0,right=1)\n",
        "    ks_stat = np.max(np.abs(ecdf1- ecdf2))\n",
        "    return ks_stat"
      ]
    },
    {
      "cell_type": "markdown",
      "metadata": {
        "id": "J4CkgDXsmPfs"
      },
      "source": [
        "2 sample ks test on trip_duration and fare_amount columns"
      ]
    },
    {
      "cell_type": "code",
      "execution_count": null,
      "metadata": {
        "colab": {
          "base_uri": "https://localhost:8080/"
        },
        "id": "SQX0ZnE0mFe5",
        "outputId": "e3966668-a970-48d1-ee10-19dc31d7aa3d"
      },
      "outputs": [
        {
          "output_type": "stream",
          "name": "stdout",
          "text": [
            "Two-sample KS test statistic: 0.9745234292746019\n",
            "is distribution same for the 2 columns: False\n"
          ]
        }
      ],
      "source": [
        "ks_2 =ks_2sample(combined['trip_duration'],combined['fare_amount'])\n",
        "print(f\"Two-sample KS test statistic: {ks_2}\")\n",
        "print (f\"is distribution same for the 2 columns: {ks_2<0.05}\")"
      ]
    },
    {
      "cell_type": "markdown",
      "metadata": {
        "id": "CGbN91FFnSvF"
      },
      "source": [
        "Permuatation test on trip_duration and fare_amount columns"
      ]
    },
    {
      "cell_type": "code",
      "execution_count": null,
      "metadata": {
        "id": "3iqO1bP6nAwl"
      },
      "outputs": [],
      "source": [
        "def permutation_t(d1,d2, n=1000):\n",
        "  combined_data=np.concatenate([d1, d2])\n",
        "  obs_diff=np.abs(np.mean(d1)- np.mean(d2))\n",
        "  cnt=0\n",
        "  for _ in range(n):\n",
        "    np.random.shuffle(combined_data)\n",
        "    permuted_diff =np.abs(np.mean(combined_data[:len(d1)])- np.mean(combined_data[len(d1):]))\n",
        "    if permuted_diff>=obs_diff:\n",
        "      cnt +=1\n",
        "  p_value = cnt/float(n)\n",
        "  return p_value"
      ]
    },
    {
      "cell_type": "code",
      "execution_count": null,
      "metadata": {
        "colab": {
          "base_uri": "https://localhost:8080/"
        },
        "id": "VXBgIRD_nj1n",
        "outputId": "2b9a674b-ac31-4e01-9b52-ecb7a8336055"
      },
      "outputs": [
        {
          "output_type": "stream",
          "name": "stdout",
          "text": [
            "p value from permuatation test: 0.0 \n",
            "are 2 distributions same? - False\n"
          ]
        }
      ],
      "source": [
        "p_val=permutation_t(combined['trip_duration'],combined['fare_amount'])\n",
        "print (f\"p value from permuatation test: {p_val} \")\n",
        "print (f\"are 2 distributions same? - {p_val>=0.05}\")"
      ]
    },
    {
      "cell_type": "markdown",
      "metadata": {
        "id": "8Sp38p30rxBJ"
      },
      "source": [
        "1 sample KS tests"
      ]
    },
    {
      "cell_type": "code",
      "execution_count": null,
      "metadata": {
        "colab": {
          "base_uri": "https://localhost:8080/"
        },
        "id": "wHwPcVC4rqUV",
        "outputId": "fc055662-e4cd-4010-e090-0bdf9a4934e0"
      },
      "outputs": [
        {
          "output_type": "stream",
          "name": "stdout",
          "text": [
            "One-sample KS test statistic against Poisson distribution: 0.9996636683053892\n",
            "are 2 distributions same using 1 sample KS test with poisson dist - False\n"
          ]
        }
      ],
      "source": [
        "#using poison lambda=mean\n",
        "lambda_poisson=combined['trip_duration'].mean()\n",
        "D_one_sample_poisson = ks_1sample(combined['fare_amount'],\"poisson\",mu=lambda_poisson)\n",
        "print(f\"One-sample KS test statistic against Poisson distribution: {D_one_sample_poisson}\")\n",
        "print (f\"are 2 distributions same using 1 sample KS test with poisson dist - {D_one_sample_poisson<0.05}\")"
      ]
    },
    {
      "cell_type": "code",
      "execution_count": null,
      "metadata": {
        "colab": {
          "base_uri": "https://localhost:8080/"
        },
        "id": "KuTWgRoK06hy",
        "outputId": "124ec7cc-043b-4bfd-ad8d-3d2c2ce6da98"
      },
      "outputs": [
        {
          "output_type": "stream",
          "name": "stdout",
          "text": [
            "One-sample KS test statistic against Geometric distribution: 0.9766217889402966\n",
            "are 2 distributions same using 1 sample KS test with geometric dist - False\n"
          ]
        }
      ],
      "source": [
        "#using geometric p=1/mean\n",
        "from scipy.stats import geom\n",
        "trip_mean=combined['trip_duration'].mean()\n",
        "p_geo=1/trip_mean\n",
        "D_geom = ks_1sample(combined['fare_amount'], \"geo\",geo=p_geo)\n",
        "print(f\"One-sample KS test statistic against Geometric distribution: {D_geom}\")\n",
        "print (f\"are 2 distributions same using 1 sample KS test with geometric dist - {D_geom<0.05}\")"
      ]
    },
    {
      "cell_type": "code",
      "execution_count": null,
      "metadata": {
        "colab": {
          "base_uri": "https://localhost:8080/"
        },
        "id": "DLLE3VRD1ULm",
        "outputId": "b5ac99bf-e930-4516-f3d9-2ebf6f57085b"
      },
      "outputs": [
        {
          "output_type": "stream",
          "name": "stdout",
          "text": [
            "One-sample KS test statistic against Binomial distribution: nan\n",
            "p_hat and n_hat : (-35018048.52316385, 0)\n",
            "are 2 distributions same using 1 sample KS test with geometric dist - False\n"
          ]
        }
      ],
      "source": [
        "#using binomial\n",
        "mean_trip_duration=np.mean(combined['trip_duration'])\n",
        "var_trip_duration=np.var(combined['trip_duration'])\n",
        "n_binom = mean_trip_duration**2 /(mean_trip_duration-var_trip_duration)\n",
        "p_binom = mean_trip_duration/n_binom\n",
        "n_binom=int(n_binom)\n",
        "D_binom = ks_1sample(combined['fare_amount'],\"binom\",n=n_binom,p=p_binom)\n",
        "print(f\"One-sample KS test statistic against Binomial distribution: {D_binom}\")\n",
        "print (f\"p_hat and n_hat : {p_binom, n_binom}\")\n",
        "print (f\"are 2 distributions same using 1 sample KS test with geometric dist - {D_binom<0.05}\")"
      ]
    },
    {
      "cell_type": "markdown",
      "metadata": {
        "id": "BoC99LJ38SbG"
      },
      "source": [
        "3.5 Linear Regression"
      ]
    },
    {
      "cell_type": "code",
      "execution_count": null,
      "metadata": {
        "colab": {
          "base_uri": "https://localhost:8080/"
        },
        "id": "W5EUUShz8Omj",
        "outputId": "f8654d37-d021-4a94-ec69-32f224c88536"
      },
      "outputs": [
        {
          "output_type": "stream",
          "name": "stdout",
          "text": [
            "Part 1: Separate Regression Analysis\n",
            "Total_Amount vs Trip_Duration:\n",
            "β0: 84.52813262089026\n",
            "β1: [0.00802702]\n",
            "SSE: 7975436325832.035\n",
            "MAPE: 849.5331528579829\n",
            "\n",
            "Total_Amount vs Trip_Distance:\n",
            "β0: 16.418578423844878\n",
            "β1: [1.4156114]\n",
            "SSE: 7358676853566.975\n",
            "MAPE: 401.53127167993136\n",
            "\n",
            "Part 2: Regression Analysis with Both Variables\n",
            "Total_Amount vs [Trip_Duration, Trip_Distance]:\n",
            "β0: 10.939284545942996\n",
            "β1: 0.005132881350845376\n",
            "β2: 1.0914117502665055\n",
            "SSE: 6671989348351.843\n",
            "MAPE: 340.630346856321\n"
          ]
        }
      ],
      "source": [
        "#3.5 Linear Regression\n",
        "# Define function for Linear Regression\n",
        "def linear_regression(X, y):\n",
        "    X = np.c_[np.ones(X.shape[0]), X]  # Add intercept term\n",
        "    beta = np.linalg.inv(X.T @ X) @ X.T @ y\n",
        "    return beta[0], beta[1:]\n",
        "\n",
        "# Define functions for MAPE and MSE\n",
        "def mape(observed, predicted):\n",
        "    return np.mean(np.abs((observed - predicted) / observed)) * 100\n",
        "\n",
        "def sse(observed, predicted):\n",
        "    return np.sum((observed - predicted)**2)\n",
        "\n",
        "# Separate regression for total_amount vs trip_duration\n",
        "X_duration = combined[['trip_duration']]\n",
        "y_duration = combined['total_amount']\n",
        "beta0_duration, beta1_duration = linear_regression(X_duration.values, y_duration.values)\n",
        "\n",
        "# Calculate predicted values\n",
        "y_pred_duration = beta0_duration + beta1_duration * X_duration.values.flatten()\n",
        "\n",
        "# Calculate SSE and MAPE\n",
        "SSE_duration = sse(y_duration.values, y_pred_duration)\n",
        "MAPE_duration = mape(y_duration.values, y_pred_duration)\n",
        "\n",
        "print(\"Part 1: Separate Regression Analysis\")\n",
        "print(\"Total_Amount vs Trip_Duration:\")\n",
        "print(\"β0:\", beta0_duration)\n",
        "print(\"β1:\", beta1_duration)\n",
        "print(\"SSE:\", SSE_duration)\n",
        "print(\"MAPE:\", MAPE_duration)\n",
        "\n",
        "# Separate regression for total_amount vs trip_distance\n",
        "X_distance = combined[['trip_distance']]\n",
        "y_distance = combined['total_amount']\n",
        "beta0_distance, beta1_distance = linear_regression(X_distance.values, y_distance.values)\n",
        "\n",
        "# Calculate predicted values\n",
        "y_pred_distance = beta0_distance + beta1_distance * X_distance.values.flatten()\n",
        "\n",
        "# Calculate SSE and MAPE\n",
        "SSE_distance = sse(y_distance.values, y_pred_distance)\n",
        "MAPE_distance = mape(y_distance.values, y_pred_distance)\n",
        "\n",
        "print(\"\\nTotal_Amount vs Trip_Distance:\")\n",
        "print(\"β0:\", beta0_distance)\n",
        "print(\"β1:\", beta1_distance)\n",
        "print(\"SSE:\", SSE_distance)\n",
        "print(\"MAPE:\", MAPE_distance)\n",
        "\n",
        "# Regression for total_amount vs [trip_duration, trip_distance]\n",
        "X_combined = combined[['trip_duration', 'trip_distance']]\n",
        "y_combined = combined['total_amount']\n",
        "beta0_combined, [beta1_combined, beta2_combined] = linear_regression(X_combined.values, y_combined.values)\n",
        "\n",
        "# Calculate predicted values\n",
        "y_pred_combined = beta0_combined + beta1_combined * X_combined['trip_duration'] + beta2_combined * X_combined['trip_distance']\n",
        "\n",
        "# Calculate SSE and MAPE\n",
        "SSE_combined = sse(y_combined.values, y_pred_combined)\n",
        "MAPE_combined = mape(y_combined.values, y_pred_combined)\n",
        "\n",
        "print(\"\\nPart 2: Regression Analysis with Both Variables\")\n",
        "print(\"Total_Amount vs [Trip_Duration, Trip_Distance]:\")\n",
        "print(\"β0:\", beta0_combined)\n",
        "print(\"β1:\", beta1_combined)\n",
        "print(\"β2:\", beta2_combined)\n",
        "print(\"SSE:\", SSE_combined)\n",
        "print(\"MAPE:\", MAPE_combined)"
      ]
    },
    {
      "cell_type": "markdown",
      "metadata": {
        "id": "hnFmRhInkIRJ"
      },
      "source": [
        "Overall, considering both Trip_Duration and Trip_Distance together in the regression analysis leads to a different regression fit with lower intercept, adjusted coefficients, and improved model performance in terms of SSE and MAPE compared to separate analyses. This indicates that the joint effect of both variables provides a more comprehensive understanding of their relationship with Total_Amount."
      ]
    },
    {
      "cell_type": "markdown",
      "metadata": {
        "id": "q_uEdeFDgXjN"
      },
      "source": [
        "3.6 Time Series Analysis"
      ]
    },
    {
      "cell_type": "code",
      "execution_count": null,
      "metadata": {
        "id": "-7YtS5izhLEy"
      },
      "outputs": [],
      "source": [
        "combined['lpep_pickup_datetime'] = pd.to_datetime(combined['lpep_pickup_datetime'])\n",
        "combined.set_index('lpep_pickup_datetime', inplace=True)\n",
        "\n",
        "# Calculate median trip amount for each day\n",
        "daily_median = combined['total_amount'].resample('D').median()\n",
        "\n",
        "# Define training data (from 1st date of the first month until the second last date of the second month)\n",
        "train_data = daily_median[:-1]\n",
        "\n",
        "# Define observed data (median trip amount of the last day)\n",
        "observed_data = daily_median[-1:]\n",
        "\n"
      ]
    },
    {
      "cell_type": "code",
      "execution_count": null,
      "metadata": {
        "id": "9BFBNOsQUyQR"
      },
      "outputs": [],
      "source": [
        "def linear_regression(X, y):\n",
        "    X = np.c_[np.ones(X.shape[0]), X]  # Add intercept term\n",
        "    beta = np.linalg.inv(X.T @ X) @ X.T @ y\n",
        "    return beta[0], beta[1:]\n",
        "\n",
        "# AR(2) prediction\n",
        "def ar2_predict(data):\n",
        "    n = len(data)\n",
        "    if n < 3:\n",
        "        return None\n",
        "\n",
        "    # Prepare training data\n",
        "    y = data[2:]      # Target values starting from the 3rd value\n",
        "    y_1 = data[1:-1]  # 2nd to second last value\n",
        "    y_2 = data[:-2]   # 1st to third last value\n",
        "\n",
        "    # Prepare feature matrix\n",
        "    X = np.column_stack((y_1, y_2))\n",
        "\n",
        "    # Perform linear regression\n",
        "    beta0, betas = linear_regression(X, y)\n",
        "    beta1, beta2 = betas\n",
        "\n",
        "    # Use coefficients to predict next value\n",
        "    y_1_latest = data[-1]  # Last value in training data\n",
        "    y_2_latest = data[-2]  # Second last value in training data\n",
        "    return beta0 + beta1 * y_1_latest + beta2 * y_2_latest\n",
        "\n",
        "# AR(3) prediction\n",
        "def ar3_predict(data):\n",
        "    n = len(data)\n",
        "    if n < 4:\n",
        "        return None\n",
        "\n",
        "    # Prepare training data\n",
        "    y = data[3:]      # Target values starting from the 4th value\n",
        "    y_1 = data[2:-1]  # 3rd to second last value\n",
        "    y_2 = data[1:-2]  # 2nd to third last value\n",
        "    y_3 = data[:-3]   # 1st to fourth last value\n",
        "\n",
        "    # Prepare feature matrix\n",
        "    X = np.column_stack((y_1, y_2, y_3))\n",
        "\n",
        "    # Perform linear regression\n",
        "    beta0, betas = linear_regression(X, y)\n",
        "    beta1, beta2, beta3 = betas\n",
        "\n",
        "    # Use coefficients to predict next value\n",
        "    y_1_latest = data[-1]  # Last value in training data\n",
        "    y_2_latest = data[-2]  # Second last value in training data\n",
        "    y_3_latest = data[-3]  # Third last value in training data\n",
        "    return beta0 + beta1 * y_1_latest + beta2 * y_2_latest + beta3 * y_3_latest\n",
        "\n",
        "# Perform predictions\n",
        "ar2_prediction = ar2_predict(train_data.values)\n",
        "ar3_prediction = ar3_predict(train_data.values)"
      ]
    },
    {
      "cell_type": "code",
      "execution_count": null,
      "metadata": {
        "colab": {
          "base_uri": "https://localhost:8080/"
        },
        "id": "H_olA-_aUnvY",
        "outputId": "597d8062-2944-4248-ed19-1b24e4199f2f"
      },
      "outputs": [
        {
          "output_type": "stream",
          "name": "stdout",
          "text": [
            "\n",
            "Time Series Analysis\n",
            "AR(2) Prediction: 12.868650487402292\n",
            "AR(3) Prediction: 12.97692283243535\n",
            "Last EWMA prediction: 12.706844450953376\n",
            "SMA Prediction: 12.83\n",
            "MAPE for AR(2): 4.036909117059721\n",
            "MAPE for AR(3): 3.229509079527599\n",
            "MAPE for EWMA: 3.560051281911784\n",
            "MAPE for SMA: 4.325130499627145\n",
            "Actual Median Total Amount on Last Day: 13.41000\n"
          ]
        }
      ],
      "source": [
        "alpha = 0.5\n",
        "ewma_prediction = [train_data[0]]\n",
        "for i in range(1, len(train_data)):\n",
        "    prediction = alpha * train_data[i-1] + (1 - alpha) * ewma_prediction[i-1]\n",
        "    ewma_prediction.append(prediction)\n",
        "\n",
        "window = 7\n",
        "def sma_predict(data, window):\n",
        "    n = len(data)\n",
        "    if n < window:\n",
        "        return None\n",
        "    return np.mean(data[-window:])\n",
        "sma_prediction = sma_predict(train_data.values, window=7)\n",
        "\n",
        "# Calculate MAPE for each prediction\n",
        "mape_ar2 = mape(observed_data.values, ar2_prediction)\n",
        "mape_ar3 = mape(observed_data.values, ar3_prediction)\n",
        "mape_ewma = mape(observed_data.values, ewma_prediction)\n",
        "mape_sma = mape(observed_data.values, sma_prediction)\n",
        "\n",
        "# Print predictions and MAPE\n",
        "print(\"\\nTime Series Analysis\")\n",
        "print(\"AR(2) Prediction:\", ar2_prediction)\n",
        "print(\"AR(3) Prediction:\", ar3_prediction)\n",
        "print(\"Last EWMA prediction:\", ewma_prediction[-1])\n",
        "print(\"SMA Prediction:\", sma_prediction)\n",
        "print(\"MAPE for AR(2):\", mape_ar2)\n",
        "print(\"MAPE for AR(3):\", mape_ar3)\n",
        "print(\"MAPE for EWMA:\", mape_ewma)\n",
        "print(\"MAPE for SMA:\", mape_sma)\n",
        "\n",
        "# Print actual value for comparison\n",
        "print(f\"Actual Median Total Amount on Last Day: {observed_data.values[0]:.5f}\")"
      ]
    },
    {
      "cell_type": "markdown",
      "metadata": {
        "id": "i9YaYhD2gd6j"
      },
      "source": [
        "3.7 Chisquare"
      ]
    },
    {
      "cell_type": "code",
      "execution_count": null,
      "metadata": {
        "colab": {
          "base_uri": "https://localhost:8080/"
        },
        "id": "HHMZeK2mXSXM",
        "outputId": "537b3799-d8f7-464f-cece-518a3929fd1e"
      },
      "outputs": [
        {
          "output_type": "stream",
          "name": "stdout",
          "text": [
            "Chi-Square Statistic: 2002.6242027826795\n",
            "p-value: 0.0\n",
            "Contingency Table:\n",
            "passenger_category   high    low\n",
            "tip_category                    \n",
            "high                13425  56344\n",
            "low                  7488  62486\n"
          ]
        }
      ],
      "source": [
        "#3.7 Chisquare\n",
        "# Assuming 'combined' is the DataFrame used in your notebook\n",
        "\n",
        "# Categorize 'tip_amount' and 'passenger_count' into 'high' and 'low' based on median values\n",
        "median_tip = combined['tip_amount'].median()\n",
        "median_passenger = combined['passenger_count'].median()\n",
        "\n",
        "combined['tip_category'] = np.where(combined['tip_amount'] > median_tip, 'high', 'low')\n",
        "combined['passenger_category'] = np.where(combined['passenger_count'] > median_passenger, 'high', 'low')\n",
        "\n",
        "# Create a contingency table\n",
        "contingency_table = pd.crosstab(combined['tip_category'], combined['passenger_category'])\n",
        "\n",
        "# Convert contingency table to numpy array for calculations\n",
        "observed = contingency_table.values\n",
        "\n",
        "# Calculate the expected frequencies\n",
        "row_totals = observed.sum(axis=1, keepdims=True)\n",
        "col_totals = observed.sum(axis=0, keepdims=True)\n",
        "total = observed.sum()\n",
        "\n",
        "expected = row_totals @ col_totals / total\n",
        "\n",
        "# Calculate the Chi-Square statistic\n",
        "chi2_statistic = ((observed - expected) ** 2 / expected).sum()\n",
        "\n",
        "# Degrees of freedom\n",
        "dof = (observed.shape[0] - 1) * (observed.shape[1] - 1)\n",
        "\n",
        "# Approximate the p-value using a numerical approximation for the Chi-Square CDF\n",
        "def chi2_cdf(x, k):\n",
        "    # Using the regularized gamma function approximation\n",
        "    from math import exp, gamma\n",
        "    if x < 0 or k <= 0:\n",
        "        return 0.0\n",
        "    g_k = gamma(k / 2)\n",
        "    return 1 - (exp(-x / 2) * (x / 2)**(k / 2 - 1)) / g_k\n",
        "\n",
        "p_value = 1 - chi2_cdf(chi2_statistic, dof)\n",
        "\n",
        "# Print results\n",
        "print(f'Chi-Square Statistic: {chi2_statistic}')\n",
        "print(f'p-value: {p_value}')\n",
        "print('Contingency Table:')\n",
        "print(contingency_table)\n"
      ]
    },
    {
      "cell_type": "markdown",
      "metadata": {
        "id": "h0_Fk5tygin6"
      },
      "source": [
        "3.8: Bayesian Test"
      ]
    },
    {
      "cell_type": "code",
      "execution_count": null,
      "metadata": {
        "colab": {
          "base_uri": "https://localhost:8080/"
        },
        "id": "M2eEtmPtYKCg",
        "outputId": "d15689e9-0d11-4234-ce36-0c4e4afcfa0c"
      },
      "outputs": [
        {
          "output_type": "stream",
          "name": "stdout",
          "text": [
            "As n tends towards infinity, the posterior mean approaches the true mean of the population, and the posterior standard deviation decreases.\n",
            "Overall Posterior Mean for first month: 4.819749947067543\n",
            "Overall Posterior SD for first month: 1.9658313526471707\n",
            "Overall Posterior Mean after second month: 7.344453327025062\n",
            "Overall Posterior SD after second month: 1.9663657260577097\n"
          ]
        }
      ],
      "source": [
        "# Section 3.8: Bayesian Test\n",
        "\n",
        "# Filter the data for the first month where 0 < trip_distance <= 10\n",
        "df_first_month = combined[(combined['trip_distance'] > 0) & (combined['trip_distance'] <= 10) & (combined['month'] == 'feb')]\n",
        "\n",
        "# Define parameters for the prior distribution\n",
        "m_prior = 2.25\n",
        "sd_prior = 1.95\n",
        "sigma = 2\n",
        "n_samples = 30\n",
        "\n",
        "# Ensure the DataFrame has enough rows to sample from\n",
        "if df_first_month.shape[0] < n_samples:\n",
        "    raise ValueError(\"Not enough data points in the first month to sample 30 points per sample.\")\n",
        "\n",
        "# Create 30 samples of 30 points each\n",
        "samples = [df_first_month['trip_distance'].sample(n=n_samples, random_state=i) for i in range(1, 31)]\n",
        "\n",
        "# Calculate the posterior mean and standard deviation for each sample\n",
        "posterior_means = []\n",
        "posterior_sds = []\n",
        "\n",
        "for sample in samples:\n",
        "    X_bar = sample.mean()\n",
        "    n = len(sample)\n",
        "    posterior_mean = (sd_prior**2 * X_bar + sigma**2 * m_prior) / (sd_prior**2 + sigma**2 / n)\n",
        "    posterior_sd = np.sqrt((sd_prior**2 * sigma**2) / (sd_prior**2 + sigma**2 / n))\n",
        "    posterior_means.append(posterior_mean)\n",
        "    posterior_sds.append(posterior_sd)\n",
        "\n",
        "# Comment on the obtained mean and standard deviation as n tends towards infinity\n",
        "print(f\"As n tends towards infinity, the posterior mean approaches the true mean of the population, and the posterior standard deviation decreases.\")\n",
        "\n",
        "# Calculate the overall posterior mean and standard deviation\n",
        "overall_posterior_mean = np.mean(posterior_means)\n",
        "overall_posterior_sd = np.mean(posterior_sds)\n",
        "\n",
        "print(f'Overall Posterior Mean for first month: {overall_posterior_mean}')\n",
        "print(f'Overall Posterior SD for first month: {overall_posterior_sd}')\n",
        "\n",
        "# Repeat the same for the second month and combine with the first month posterior\n",
        "df_second_month = combined[(combined['trip_distance'] > 0) & (combined['trip_distance'] <= 10) & (combined['month'] == 'march')]\n",
        "\n",
        "# Ensure the DataFrame has enough rows to sample from\n",
        "if df_second_month.shape[0] < n_samples:\n",
        "    raise ValueError(\"Not enough data points in the second month to sample 30 points per sample.\")\n",
        "\n",
        "samples_second_month = [df_second_month['trip_distance'].sample(n=n_samples, random_state=i) for i in range(31, 61)]\n",
        "\n",
        "posterior_means_second = []\n",
        "posterior_sds_second = []\n",
        "\n",
        "for sample in samples_second_month:\n",
        "    X_bar = sample.mean()\n",
        "    n = len(sample)\n",
        "    posterior_mean = (overall_posterior_sd**2 * X_bar + sigma**2 * overall_posterior_mean) / (overall_posterior_sd**2 + sigma**2 / n)\n",
        "    posterior_sd = np.sqrt((overall_posterior_sd**2 * sigma**2) / (overall_posterior_sd**2 + sigma**2 / n))\n",
        "    posterior_means_second.append(posterior_mean)\n",
        "    posterior_sds_second.append(posterior_sd)\n",
        "\n",
        "# Calculate the overall posterior mean and standard deviation for the second month\n",
        "overall_posterior_mean_second = np.mean(posterior_means_second)\n",
        "overall_posterior_sd_second = np.mean(posterior_sds_second)\n",
        "\n",
        "print(f'Overall Posterior Mean after second month: {overall_posterior_mean_second}')\n",
        "print(f'Overall Posterior SD after second month: {overall_posterior_sd_second}')"
      ]
    }
  ],
  "metadata": {
    "colab": {
      "provenance": [],
      "include_colab_link": true
    },
    "kernelspec": {
      "display_name": "Python 3",
      "name": "python3"
    },
    "language_info": {
      "name": "python"
    }
  },
  "nbformat": 4,
  "nbformat_minor": 0
}